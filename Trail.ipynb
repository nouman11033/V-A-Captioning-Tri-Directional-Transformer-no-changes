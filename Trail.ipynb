{
  "cells": [
    {
      "cell_type": "markdown",
      "metadata": {
        "id": "mY9WQfMp-Wn6"
      },
      "source": [
        "## Cloning the Repository"
      ]
    },
    {
      "cell_type": "code",
      "execution_count": null,
      "metadata": {
        "colab": {
          "background_save": true,
          "base_uri": "https://localhost:8080/"
        },
        "collapsed": true,
        "id": "8hDJyJNKV7QK",
        "outputId": "35ffcdc7-1e52-43f6-a4cd-753dc7683c3f"
      },
      "outputs": [
        {
          "name": "stdout",
          "output_type": "stream",
          "text": [
            "Cloning into 'BMT'...\n",
            "remote: Enumerating objects: 182, done.\u001b[K\n",
            "remote: Counting objects: 100% (59/59), done.\u001b[K\n",
            "remote: Compressing objects: 100% (22/22), done.\u001b[K\n",
            "remote: Total 182 (delta 42), reused 40 (delta 37), pack-reused 123\u001b[K\n",
            "Receiving objects: 100% (182/182), 12.86 MiB | 18.93 MiB/s, done.\n",
            "Resolving deltas: 100% (77/77), done.\n",
            "Submodule 'submodules/pycocoevalcap' (https://github.com/salaniz/pycocoevalcap.git) registered for path 'submodules/pycocoevalcap'\n",
            "Submodule 'submodules/video_features' (https://github.com/v-iashin/video_features.git) registered for path 'submodules/video_features'\n",
            "Cloning into '/content/BMT/BMT/submodules/pycocoevalcap'...\n",
            "remote: Enumerating objects: 821, done.        \n",
            "remote: Counting objects: 100% (24/24), done.        \n",
            "remote: Compressing objects: 100% (20/20), done.        \n",
            "remote: Total 821 (delta 5), reused 19 (delta 4), pack-reused 797        \n",
            "Receiving objects: 100% (821/821), 130.06 MiB | 26.82 MiB/s, done.\n",
            "Resolving deltas: 100% (424/424), done.\n",
            "Cloning into '/content/BMT/BMT/submodules/video_features'...\n",
            "remote: Enumerating objects: 1299, done.        \n",
            "remote: Counting objects: 100% (420/420), done.        \n",
            "remote: Compressing objects: 100% (186/186), done.        \n",
            "remote: Total 1299 (delta 263), reused 326 (delta 218), pack-reused 879        \n",
            "Receiving objects: 100% (1299/1299), 288.62 MiB | 25.73 MiB/s, done.\n",
            "Resolving deltas: 100% (670/670), done.\n",
            "Submodule path 'submodules/pycocoevalcap': checked out 'ca1b05fa0e99f86de2259f87d43c72b322523731'\n",
            "Submodule path 'submodules/video_features': checked out '662ec51caf591e76724237f0454bdf7735a8dcb1'\n",
            "/content/BMT/BMT\n"
          ]
        }
      ],
      "source": [
        "!git clone --recursive https://github.com/v-iashin/BMT.git\n",
        "%cd BMT/"
      ]
    },
    {
      "cell_type": "code",
      "execution_count": null,
      "metadata": {
        "colab": {
          "base_uri": "https://localhost:8080/"
        },
        "collapsed": true,
        "id": "audwYM3BPZNl",
        "outputId": "742f3fca-0fae-43b2-d9f3-6eef1a46a313"
      },
      "outputs": [
        {
          "name": "stdout",
          "output_type": "stream",
          "text": [
            "Miniconda3-py37_23. 100%[===================>]  86.46M   219MB/s    in 0.4s    \n",
            "PREFIX=/usr/local\n",
            "Unpacking payload ...\n",
            "Traceback (most recent call last):\n",
            "  File \"entry_point.py\", line 69, in <module>\n",
            "\n",
            "[50065] Failed to execute script 'entry_point' due to unhandled exception!\n",
            "Process ForkProcess-2:\n",
            "Exception ignored in: <module 'threading' from '/usr/local/install_tmp/_MEI4zCfMQ/threading.pyc'>\n",
            "Exception ignored in sys.unraisablehook: <built-in function unraisablehook>\n",
            "Traceback (most recent call last):\n",
            "KeyboardInterrupt\n",
            "  File \"multiprocessing/process.py\", line 315, in _bootstrap\n",
            "  File \"multiprocessing/process.py\", line 108, in run\n",
            "  File \"concurrent/futures/process.py\", line 240, in _process_worker\n",
            "  File \"multiprocessing/queues.py\", line 103, in get\n",
            "  File \"multiprocessing/connection.py\", line 221, in recv_bytes\n",
            "  File \"multiprocessing/connection.py\", line 419, in _recv_bytes\n",
            "  File \"multiprocessing/connection.py\", line 384, in _recv\n",
            "KeyboardInterrupt\n",
            "^C\n"
          ]
        }
      ],
      "source": [
        "!wget https://repo.anaconda.com/miniconda/Miniconda3-py37_23.1.0-1-Linux-x86_64.sh -q --show-progress\n",
        "!bash ./Miniconda3-py37_23.1.0-1-Linux-x86_64.sh -b -f -p /usr/local"
      ]
    },
    {
      "cell_type": "code",
      "execution_count": null,
      "metadata": {
        "id": "-N7KMqt3pioC"
      },
      "outputs": [],
      "source": []
    },
    {
      "cell_type": "code",
      "execution_count": null,
      "metadata": {
        "colab": {
          "base_uri": "https://localhost:8080/"
        },
        "collapsed": true,
        "id": "wLh5pMtNEJXU",
        "outputId": "39529c4a-c133-43a1-e039-a0f674c637fd"
      },
      "outputs": [
        {
          "name": "stdout",
          "output_type": "stream",
          "text": [
            "Requirement already satisfied: cryptography==38.0.4 in /usr/local/lib/python3.7/site-packages (38.0.4)\n",
            "Requirement already satisfied: cffi>=1.12 in /usr/local/lib/python3.7/site-packages (from cryptography==38.0.4) (1.15.1)\n",
            "Requirement already satisfied: pycparser in /usr/local/lib/python3.7/site-packages (from cffi>=1.12->cryptography==38.0.4) (2.21)\n",
            "\u001b[33mWARNING: Running pip as the 'root' user can result in broken permissions and conflicting behaviour with the system package manager. It is recommended to use a virtual environment instead: https://pip.pypa.io/warnings/venv\u001b[0m\u001b[33m\n",
            "\u001b[0mRequirement already satisfied: pyopenssl in /usr/local/lib/python3.7/site-packages (23.2.0)\n",
            "Requirement already satisfied: cryptography!=40.0.0,!=40.0.1,<42,>=38.0.0 in /usr/local/lib/python3.7/site-packages (from pyopenssl) (38.0.4)\n",
            "Requirement already satisfied: cffi>=1.12 in /usr/local/lib/python3.7/site-packages (from cryptography!=40.0.0,!=40.0.1,<42,>=38.0.0->pyopenssl) (1.15.1)\n",
            "Requirement already satisfied: pycparser in /usr/local/lib/python3.7/site-packages (from cffi>=1.12->cryptography!=40.0.0,!=40.0.1,<42,>=38.0.0->pyopenssl) (2.21)\n",
            "\u001b[33mWARNING: Running pip as the 'root' user can result in broken permissions and conflicting behaviour with the system package manager. It is recommended to use a virtual environment instead: https://pip.pypa.io/warnings/venv\u001b[0m\u001b[33m\n",
            "\u001b[0m"
          ]
        }
      ],
      "source": [
        "#@title\n",
        "# fixing nasty colab environment\n",
        "import locale\n",
        "locale.getpreferredencoding = lambda: \"UTF-8\"\n",
        "!pip install cryptography==38.0.4\n",
        "!pip install pyopenssl --upgrade"
      ]
    },
    {
      "cell_type": "code",
      "execution_count": null,
      "metadata": {
        "id": "-vICd7JtpjpP"
      },
      "outputs": [],
      "source": []
    },
    {
      "cell_type": "code",
      "execution_count": null,
      "metadata": {
        "colab": {
          "base_uri": "https://localhost:8080/",
          "height": 349
        },
        "id": "SaOrNEf_V0OZ",
        "outputId": "ba75e870-8939-4738-8532-1fcb1e30e836",
        "scrolled": true
      },
      "outputs": [
        {
          "ename": "ModuleNotFoundError",
          "evalue": "ignored",
          "output_type": "error",
          "traceback": [
            "\u001b[0;31m---------------------------------------------------------------------------\u001b[0m",
            "\u001b[0;31mModuleNotFoundError\u001b[0m                       Traceback (most recent call last)",
            "\u001b[0;32m<ipython-input-2-409a8cbc8fc8>\u001b[0m in \u001b[0;36m<cell line: 5>\u001b[0;34m()\u001b[0m\n\u001b[1;32m      3\u001b[0m \u001b[0;32mimport\u001b[0m \u001b[0msys\u001b[0m\u001b[0;34m\u001b[0m\u001b[0;34m\u001b[0m\u001b[0m\n\u001b[1;32m      4\u001b[0m \u001b[0msys\u001b[0m\u001b[0;34m.\u001b[0m\u001b[0mpath\u001b[0m\u001b[0;34m.\u001b[0m\u001b[0mappend\u001b[0m\u001b[0;34m(\u001b[0m\u001b[0;34m'/usr/local/lib/python3.7/site-packages/'\u001b[0m\u001b[0;34m)\u001b[0m\u001b[0;34m\u001b[0m\u001b[0;34m\u001b[0m\u001b[0m\n\u001b[0;32m----> 5\u001b[0;31m \u001b[0;32mfrom\u001b[0m \u001b[0msample\u001b[0m\u001b[0;34m.\u001b[0m\u001b[0msingle_video_prediction\u001b[0m \u001b[0;32mimport\u001b[0m \u001b[0mget_video_duration\u001b[0m\u001b[0;34m\u001b[0m\u001b[0;34m\u001b[0m\u001b[0m\n\u001b[0m",
            "\u001b[0;31mModuleNotFoundError\u001b[0m: No module named 'sample'",
            "",
            "\u001b[0;31m---------------------------------------------------------------------------\u001b[0;32m\nNOTE: If your import is failing due to a missing package, you can\nmanually install dependencies using either !pip or !apt.\n\nTo view examples of installing some common dependencies, click the\n\"Open Examples\" button below.\n\u001b[0;31m---------------------------------------------------------------------------\u001b[0m\n"
          ]
        }
      ],
      "source": [
        "import os\n",
        "from pathlib import Path\n",
        "import sys\n",
        "sys.path.append('/usr/local/lib/python3.7/site-packages/')\n",
        "from sample.single_video_prediction import get_video_duration"
      ]
    },
    {
      "cell_type": "code",
      "execution_count": null,
      "metadata": {
        "colab": {
          "base_uri": "https://localhost:8080/"
        },
        "collapsed": true,
        "id": "fHOFsPYdPZNm",
        "outputId": "0fe9a7a5-6a6f-4571-c1e1-32769c646677"
      },
      "outputs": [
        {
          "name": "stdout",
          "output_type": "stream",
          "text": [
            "\n",
            "EnvironmentFileNotFound: '/content/submodules/video_features/conda_env_i3d.yml' file not found\n",
            "\n",
            "\n",
            "EnvironmentFileNotFound: '/content/submodules/video_features/conda_env_vggish.yml' file not found\n",
            "\n",
            "\n",
            "EnvironmentFileNotFound: '/content/conda_env.yml' file not found\n",
            "\n",
            "Traceback (most recent call last):\n",
            "  File \"/usr/local/envs/bmt/lib/python3.7/runpy.py\", line 183, in _run_module_as_main\n",
            "    mod_name, mod_spec, code = _get_module_details(mod_name, _Error)\n",
            "  File \"/usr/local/envs/bmt/lib/python3.7/runpy.py\", line 142, in _get_module_details\n",
            "    return _get_module_details(pkg_main_name, error)\n",
            "  File \"/usr/local/envs/bmt/lib/python3.7/runpy.py\", line 109, in _get_module_details\n",
            "    __import__(pkg_name)\n",
            "  File \"/usr/local/envs/bmt/lib/python3.7/site-packages/spacy/__init__.py\", line 4, in <module>\n",
            "    from .cli.info import info as cli_info\n",
            "  File \"/usr/local/envs/bmt/lib/python3.7/site-packages/spacy/cli/__init__.py\", line 1, in <module>\n",
            "    from .download import download\n",
            "  File \"/usr/local/envs/bmt/lib/python3.7/site-packages/spacy/cli/download.py\", line 11, in <module>\n",
            "    from .link import link\n",
            "  File \"/usr/local/envs/bmt/lib/python3.7/site-packages/spacy/cli/link.py\", line 9, in <module>\n",
            "    from ..util import prints\n",
            "  File \"/usr/local/envs/bmt/lib/python3.7/site-packages/spacy/util.py\", line 6, in <module>\n",
            "    import pkg_resources\n",
            "  File \"/usr/local/envs/bmt/lib/python3.7/site-packages/pkg_resources/__init__.py\", line 84, in <module>\n",
            "    __import__('pkg_resources.extern.packaging.requirements')\n",
            "  File \"/usr/local/envs/bmt/lib/python3.7/site-packages/pkg_resources/_vendor/packaging/requirements.py\", line 47, in <module>\n",
            "    VERSION_PEP440 = Regex(Specifier._regex_str, re.VERBOSE | re.IGNORECASE)\n",
            "  File \"/usr/local/envs/bmt/lib/python3.7/site-packages/pkg_resources/_vendor/pyparsing.py\", line 2792, in __init__\n",
            "    self.re = re.compile(self.pattern, self.flags)\n",
            "  File \"/usr/local/envs/bmt/lib/python3.7/re.py\", line 234, in compile\n",
            "    return _compile(pattern, flags)\n",
            "  File \"/usr/local/envs/bmt/lib/python3.7/re.py\", line 286, in _compile\n",
            "    p = sre_compile.compile(pattern, flags)\n",
            "  File \"/usr/local/envs/bmt/lib/python3.7/sre_compile.py\", line 764, in compile\n",
            "    p = sre_parse.parse(p, flags)\n",
            "  File \"/usr/local/envs/bmt/lib/python3.7/sre_parse.py\", line 924, in parse\n",
            "    p = _parse_sub(source, pattern, flags & SRE_FLAG_VERBOSE, 0)\n",
            "  File \"/usr/local/envs/bmt/lib/python3.7/sre_parse.py\", line 420, in _parse_sub\n",
            "    not nested and not items))\n",
            "  File \"/usr/local/envs/bmt/lib/python3.7/sre_parse.py\", line 810, in _parse\n",
            "    p = _parse_sub(source, state, sub_verbose, nested + 1)\n",
            "  File \"/usr/local/envs/bmt/lib/python3.7/sre_parse.py\", line 420, in _parse_sub\n",
            "    not nested and not items))\n",
            "  File \"/usr/local/envs/bmt/lib/python3.7/sre_parse.py\", line 810, in _parse\n",
            "    p = _parse_sub(source, state, sub_verbose, nested + 1)\n",
            "  File \"/usr/local/envs/bmt/lib/python3.7/sre_parse.py\", line 420, in _parse_sub\n",
            "    not nested and not items))\n",
            "  File \"/usr/local/envs/bmt/lib/python3.7/sre_parse.py\", line 810, in _parse\n",
            "    p = _parse_sub(source, state, sub_verbose, nested + 1)\n",
            "  File \"/usr/local/envs/bmt/lib/python3.7/sre_parse.py\", line 420, in _parse_sub\n",
            "    not nested and not items))\n",
            "  File \"/usr/local/envs/bmt/lib/python3.7/sre_parse.py\", line 810, in _parse\n",
            "    p = _parse_sub(source, state, sub_verbose, nested + 1)\n",
            "  File \"/usr/local/envs/bmt/lib/python3.7/sre_parse.py\", line 420, in _parse_sub\n",
            "    not nested and not items))\n",
            "  File \"/usr/local/envs/bmt/lib/python3.7/sre_parse.py\", line 656, in _parse\n",
            "    subpattern[-1] = (MAX_REPEAT, (min, max, item))\n",
            "KeyboardInterrupt\n"
          ]
        }
      ],
      "source": [
        "# feature extraction\n",
        "!export PIP_DEFAULT_TIMEOUT=100\n",
        "!conda env create -f ./submodules/video_features/conda_env_i3d.yml\n",
        "!conda env create -f ./submodules/video_features/conda_env_vggish.yml\n",
        "# captioning model\n",
        "!conda env create -f ./conda_env.yml\n",
        "# spacy language model\n",
        "!/usr/local/envs/bmt/bin/python -m spacy download en"
      ]
    },
    {
      "cell_type": "markdown",
      "metadata": {
        "id": "UGXZyrd8PZNo"
      },
      "source": [
        "Downloading the GloVe embeddings. `torchtext` could do it for us but it uses a slow server.\n",
        "Therefore, we store it on our premises."
      ]
    },
    {
      "cell_type": "code",
      "execution_count": null,
      "metadata": {
        "colab": {
          "base_uri": "https://localhost:8080/"
        },
        "id": "NrANDrihW5YW",
        "outputId": "9b5cd905-f6c1-4195-9b67-8be6d708caf7",
        "scrolled": false
      },
      "outputs": [
        {
          "name": "stdout",
          "output_type": "stream",
          "text": [
            "glove.840B.300d.zip 100%[===================>]   2.03G  17.5MB/s    in 2m 3s   \n",
            "best_cap_model.pt   100%[===================>] 589.61M  18.1MB/s    in 36s     \n",
            "best_prop_model.pt  100%[===================>]   2.50G  16.5MB/s    in 2m 29s  \n",
            "vggish_model.ckpt   100%[===================>] 277.62M  92.3MB/s    in 3.0s    \n"
          ]
        }
      ],
      "source": [
        "!wget https://a3s.fi/swift/v1/AUTH_a235c0f452d648828f745589cde1219a/bmt/glove.840B.300d.zip -q --show-progress\n",
        "!wget https://a3s.fi/swift/v1/AUTH_a235c0f452d648828f745589cde1219a/bmt/best_cap_model.pt -q --show-progress\n",
        "!wget https://a3s.fi/swift/v1/AUTH_a235c0f452d648828f745589cde1219a/bmt/best_prop_model.pt -q --show-progress\n",
        "!wget https://storage.googleapis.com/audioset/vggish_model.ckpt -q --show-progress\n",
        "\n",
        "!mkdir .vector_cache\n",
        "!mv glove.840B.300d.zip ./.vector_cache/\n",
        "!mv best_cap_model.pt ./sample/\n",
        "!mv best_prop_model.pt ./sample/\n",
        "!mv vggish_model.ckpt ./submodules/video_features/models/vggish/checkpoints/"
      ]
    },
    {
      "cell_type": "markdown",
      "metadata": {
        "id": "puMRtzeDDhWr"
      },
      "source": [
        "Upload your video to Google Colab and select it in the `MY_VIDEO_PATH` variable.\n",
        "The script will prepare all necessary file paths and calculate the video duration for you"
      ]
    },
    {
      "cell_type": "code",
      "execution_count": null,
      "metadata": {
        "colab": {
          "base_uri": "https://localhost:8080/"
        },
        "id": "JvTaNVHV_CNo",
        "outputId": "fe2c80a1-5ba9-407d-a197-7d80a5f605e2"
      },
      "outputs": [
        {
          "name": "stdout",
          "output_type": "stream",
          "text": [
            "Video Duration: 3.512\n"
          ]
        }
      ],
      "source": [
        "# upload a video\n",
        "MY_VIDEO_PATH = '/content/BMT/sample/two_man_greeting.mp4'\n",
        "\n",
        "# Preparing the paths\n",
        "VIDEO_DURATION = get_video_duration(MY_VIDEO_PATH)\n",
        "\n",
        "FEATURES_CACHE_PATH = '/content/BMT/tmp/'\n",
        "FEATURES_PATH_STUB = os.path.join(FEATURES_CACHE_PATH, Path(MY_VIDEO_PATH).stem)\n",
        "FEATURE_PATH_VGGISH = f'{FEATURES_PATH_STUB}_vggish.npy'\n",
        "FEATURE_PATH_RGB = f'{FEATURES_PATH_STUB}_rgb.npy'\n",
        "FEATURE_PATH_FLOW = f'{FEATURES_PATH_STUB}_flow.npy'\n",
        "\n",
        "PROPOSAL_CKPT = '/content/BMT/sample/best_prop_model.pt'\n",
        "CAPTIONING_CKPT = '/content/BMT/sample/best_cap_model.pt'"
      ]
    },
    {
      "cell_type": "markdown",
      "metadata": {
        "id": "ZIuKhGNc_NXf"
      },
      "source": [
        "The script will extract audio and visual features from the video"
      ]
    },
    {
      "cell_type": "code",
      "execution_count": null,
      "metadata": {
        "colab": {
          "base_uri": "https://localhost:8080/"
        },
        "id": "GanvtYi41tc1",
        "outputId": "7312750f-db2f-4214-f344-44674654f29c"
      },
      "outputs": [
        {
          "name": "stdout",
          "output_type": "stream",
          "text": [
            "Saving features to /content/BMT/tmp/\n",
            "100% 1/1 [00:30<00:00, 30.62s/it]\n",
            "Saving features to /content/BMT/tmp/\n",
            "\n",
            "WARNING: The TensorFlow contrib module will not be included in TensorFlow 2.0.\n",
            "For more information, please see:\n",
            "  * https://github.com/tensorflow/community/blob/master/rfcs/20180907-contrib-sunset.md\n",
            "  * https://github.com/tensorflow/addons\n",
            "If you depend on functionality not listed there, please file an issue.\n",
            "\n",
            "100% 1/1 [00:11<00:00, 11.20s/it]\n"
          ]
        }
      ],
      "source": [
        "# Extract I3D features (visual)\n",
        "!cd ./submodules/video_features && /usr/local/envs/i3d/bin/python main.py \\\n",
        "    --feature_type i3d \\\n",
        "    --on_extraction save_numpy \\\n",
        "    --device_ids 0 \\\n",
        "    --extraction_fps 25 \\\n",
        "    --video_paths $MY_VIDEO_PATH \\\n",
        "    --output_path $FEATURES_CACHE_PATH\n",
        "\n",
        "# Extract VGGish features (audio)\n",
        "!cd ./submodules/video_features && /usr/local/envs/vggish/bin/python main.py \\\n",
        "    --feature_type vggish \\\n",
        "    --on_extraction save_numpy \\\n",
        "    --device_ids 0 \\\n",
        "    --video_paths $MY_VIDEO_PATH \\\n",
        "    --output_path $FEATURES_CACHE_PATH"
      ]
    },
    {
      "cell_type": "markdown",
      "metadata": {
        "id": "QvxSQmfH_OKk"
      },
      "source": [
        "Run dense video captioning"
      ]
    },
    {
      "cell_type": "code",
      "execution_count": null,
      "metadata": {
        "colab": {
          "base_uri": "https://localhost:8080/"
        },
        "id": "txf8PnKE7Rr8",
        "outputId": "8d422d49-4582-40d6-bde2-f28605a47579"
      },
      "outputs": [
        {
          "name": "stdout",
          "output_type": "stream",
          "text": [
            "Contructing caption_iterator for \"train\" phase\n",
            "100% 2196016/2196017 [05:09<00:00, 7089.58it/s]\n",
            "Using vanilla Generator\n",
            "initialization: xavier\n",
            "Glove emb of the same size as d_model_caps\n",
            "Pretrained caption path: \n",
            " /content/BMT/sample/best_cap_model.pt\n",
            "[{'start': 0.0, 'end': 1.7, 'sentence': 'A man is seen standing on a table with a woman standing on a woman in a room'}, {'start': 0.1, 'end': 0.6, 'sentence': 'A man is seen standing on a table with a woman standing on a woman in a room'}, {'start': 2.5, 'end': 3.5, 'sentence': 'A man in a white shirt is standing on a table'}, {'start': 0.6, 'end': 3.2, 'sentence': 'A man is seen standing on a table with a woman standing on a woman in a room'}, {'start': 3.2, 'end': 3.5, 'sentence': 'A man in a white shirt is standing on a table'}, {'start': 0.4, 'end': 0.7, 'sentence': 'A man is seen standing on a table with a woman standing on a woman in a room'}, {'start': 0.8, 'end': 1.1, 'sentence': 'A man is seen standing on a table with a woman standing on a woman in a room'}]\n"
          ]
        }
      ],
      "source": [
        "# captioning parameters\n",
        "MAX_PROP_PER_VIDEO = 100\n",
        "NMS_TIOU_THRESHOLD = 0.4\n",
        "\n",
        "# Running single video prediction\n",
        "!/usr/local/envs/bmt/bin/python ./sample/single_video_prediction.py \\\n",
        "    --prop_generator_model_path $PROPOSAL_CKPT \\\n",
        "    --pretrained_cap_model_path $CAPTIONING_CKPT \\\n",
        "    --vggish_features_path $FEATURE_PATH_VGGISH \\\n",
        "    --rgb_features_path $FEATURE_PATH_RGB \\\n",
        "    --flow_features_path $FEATURE_PATH_FLOW \\\n",
        "    --duration_in_secs $VIDEO_DURATION \\\n",
        "    --device_id 0 \\\n",
        "    --max_prop_per_vid $MAX_PROP_PER_VIDEO \\\n",
        "    --nms_tiou_thresh $NMS_TIOU_THRESHOLD"
      ]
    },
    {
      "cell_type": "code",
      "execution_count": null,
      "metadata": {
        "id": "60BbQUG7Vkeh"
      },
      "outputs": [],
      "source": []
    }
  ],
  "metadata": {
    "accelerator": "GPU",
    "colab": {
      "machine_shape": "hm",
      "provenance": []
    },
    "kernelspec": {
      "display_name": "Python 3",
      "language": "python",
      "name": "python3"
    },
    "language_info": {
      "codemirror_mode": {
        "name": "ipython",
        "version": 3
      },
      "file_extension": ".py",
      "mimetype": "text/x-python",
      "name": "python",
      "nbconvert_exporter": "python",
      "pygments_lexer": "ipython3",
      "version": "3.9.6"
    }
  },
  "nbformat": 4,
  "nbformat_minor": 0
}